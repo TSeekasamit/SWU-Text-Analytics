{
 "cells": [
  {
   "cell_type": "markdown",
   "metadata": {},
   "source": [
    "Vector Space Model คือการคำนวณหาค่าความเหมือน หรือ เปรียบเทียบข้อมูล โดยใช้วิธีการคำนวณแบบ cosine ซึ่ง ผลลัพท์ที่ได้ จะมีค่าจาก 0 ถึง 1\n",
    "\n",
    "ยิ่งผลลพท์ที่ได้ มีค่าเข้าใกล้ 0 เท่าไร นั่นหมายถึง ข้อมูลที่เปรียบเทียบกัน เหมือนกันมากเท่านั้น (0 หมายถึงข้อมูลเดียวกันเลย)\n",
    "\n",
    "ปัญหาของ Vector space model ไม่สามารถให้ความสำคัญในการค้นหากลุ่มคำ หรือ ลำดับของคำได้"
   ]
  },
  {
   "cell_type": "code",
   "execution_count": 1,
   "metadata": {
    "colab": {
     "base_uri": "https://localhost:8080/",
     "height": 102
    },
    "colab_type": "code",
    "id": "WbxkUWxwj9B5",
    "outputId": "b82ea809-510f-45bb-9bc1-5cc51e8d5499"
   },
   "outputs": [
    {
     "name": "stderr",
     "output_type": "stream",
     "text": [
      "[nltk_data] Downloading package punkt to\n",
      "[nltk_data]     /Users/teerawitseekasamit/nltk_data...\n",
      "[nltk_data]   Package punkt is already up-to-date!\n",
      "[nltk_data] Downloading package stopwords to\n",
      "[nltk_data]     /Users/teerawitseekasamit/nltk_data...\n",
      "[nltk_data]   Package stopwords is already up-to-date!\n"
     ]
    },
    {
     "data": {
      "text/plain": [
       "True"
      ]
     },
     "execution_count": 1,
     "metadata": {},
     "output_type": "execute_result"
    }
   ],
   "source": [
    "import nltk\n",
    "nltk.download(\"punkt\")\n",
    "nltk.download(\"stopwords\")\n",
    "\n",
    "#sentence = \"SWU is a university located in downtown\"\n",
    "#words = nltk.tokenize.word_tokenize(sentence)\n",
    "#tokens = [word.lower() for word in words if word not in nltk.corpus.stopwords.words(\"english\")]\n",
    "#print(tokens)"
   ]
  },
  {
   "cell_type": "code",
   "execution_count": 2,
   "metadata": {
    "colab": {
     "base_uri": "https://localhost:8080/",
     "height": 34
    },
    "colab_type": "code",
    "id": "f3ITLUHepSBP",
    "outputId": "606d9192-7f34-45bb-8a4e-72b8aafca873"
   },
   "outputs": [],
   "source": [
    "from nltk.stem import PorterStemmer\n",
    "\n",
    "#porter = PorterStemmer ()\n",
    "#print(porter.stem(\"secretary\"))"
   ]
  },
  {
   "cell_type": "code",
   "execution_count": 3,
   "metadata": {
    "colab": {},
    "colab_type": "code",
    "id": "GhdtFWj9r_We"
   },
   "outputs": [],
   "source": [
    "from nltk.tokenize import word_tokenize\n",
    "from nltk.corpus import stopwords\n",
    "import numpy as np\n",
    "import pandas as pd\n",
    "#https://www.kaggle.com/gyani95/380000-lyrics-from-metrolyrics\n",
    "df = pd.read_csv('lyrics.csv')"
   ]
  },
  {
   "cell_type": "code",
   "execution_count": 4,
   "metadata": {},
   "outputs": [],
   "source": [
    "del df['index'],df['year'],df['artist']"
   ]
  },
  {
   "cell_type": "code",
   "execution_count": 5,
   "metadata": {},
   "outputs": [],
   "source": [
    "df = df.sample(n = 100)"
   ]
  },
  {
   "cell_type": "code",
   "execution_count": 6,
   "metadata": {},
   "outputs": [],
   "source": [
    "df = df[pd.notnull(df['lyrics'])]"
   ]
  },
  {
   "cell_type": "code",
   "execution_count": 7,
   "metadata": {},
   "outputs": [
    {
     "name": "stdout",
     "output_type": "stream",
     "text": [
      "<class 'pandas.core.frame.DataFrame'>\n",
      "Int64Index: 72 entries, 297669 to 157543\n",
      "Data columns (total 3 columns):\n",
      "song      72 non-null object\n",
      "genre     72 non-null object\n",
      "lyrics    72 non-null object\n",
      "dtypes: object(3)\n",
      "memory usage: 2.2+ KB\n"
     ]
    }
   ],
   "source": [
    "df.info()"
   ]
  },
  {
   "cell_type": "code",
   "execution_count": 8,
   "metadata": {},
   "outputs": [
    {
     "data": {
      "text/plain": [
       "song      object\n",
       "genre     object\n",
       "lyrics    object\n",
       "dtype: object"
      ]
     },
     "execution_count": 8,
     "metadata": {},
     "output_type": "execute_result"
    }
   ],
   "source": [
    "df.dtypes"
   ]
  },
  {
   "cell_type": "code",
   "execution_count": 9,
   "metadata": {},
   "outputs": [
    {
     "data": {
      "text/html": [
       "<div>\n",
       "<style scoped>\n",
       "    .dataframe tbody tr th:only-of-type {\n",
       "        vertical-align: middle;\n",
       "    }\n",
       "\n",
       "    .dataframe tbody tr th {\n",
       "        vertical-align: top;\n",
       "    }\n",
       "\n",
       "    .dataframe thead th {\n",
       "        text-align: right;\n",
       "    }\n",
       "</style>\n",
       "<table border=\"1\" class=\"dataframe\">\n",
       "  <thead>\n",
       "    <tr style=\"text-align: right;\">\n",
       "      <th></th>\n",
       "      <th>song</th>\n",
       "      <th>genre</th>\n",
       "      <th>lyrics</th>\n",
       "    </tr>\n",
       "  </thead>\n",
       "  <tbody>\n",
       "    <tr>\n",
       "      <th>297669</th>\n",
       "      <td>my-arms-keep-missing-u</td>\n",
       "      <td>Electronic</td>\n",
       "      <td>You know I've been so lonely every night\\nSinc...</td>\n",
       "    </tr>\n",
       "    <tr>\n",
       "      <th>1999</th>\n",
       "      <td>constantinople</td>\n",
       "      <td>Rock</td>\n",
       "      <td>Across the western world\\nThe fights are going...</td>\n",
       "    </tr>\n",
       "    <tr>\n",
       "      <th>13913</th>\n",
       "      <td>the-work-of-art</td>\n",
       "      <td>Rock</td>\n",
       "      <td>A heavy feeling creeps through my bones\\nAs I ...</td>\n",
       "    </tr>\n",
       "    <tr>\n",
       "      <th>141442</th>\n",
       "      <td>disarm</td>\n",
       "      <td>Country</td>\n",
       "      <td>Disarm you with a smile\\nAnd cut you like you ...</td>\n",
       "    </tr>\n",
       "    <tr>\n",
       "      <th>183852</th>\n",
       "      <td>i-believe-in-santa-claus</td>\n",
       "      <td>Not Available</td>\n",
       "      <td>(Dolly Parton)\\nI believe in Santa Claus\\nI be...</td>\n",
       "    </tr>\n",
       "    <tr>\n",
       "      <th>32423</th>\n",
       "      <td>walk-away-remix</td>\n",
       "      <td>Not Available</td>\n",
       "      <td>Chorus\\nIf I told you that I loved you would y...</td>\n",
       "    </tr>\n",
       "    <tr>\n",
       "      <th>352268</th>\n",
       "      <td>this-is-cracker-soul</td>\n",
       "      <td>Rock</td>\n",
       "      <td>Hey hey, it's okay to make\\nA little mess out ...</td>\n",
       "    </tr>\n",
       "    <tr>\n",
       "      <th>262942</th>\n",
       "      <td>another-me</td>\n",
       "      <td>Rock</td>\n",
       "      <td>Remember when I sang that song to you\\nAnd you...</td>\n",
       "    </tr>\n",
       "    <tr>\n",
       "      <th>301734</th>\n",
       "      <td>it-s-only-a-paper-moon-i-like-him</td>\n",
       "      <td>Pop</td>\n",
       "      <td>Fanny\\nSay it's only a paper moon, sailing ove...</td>\n",
       "    </tr>\n",
       "    <tr>\n",
       "      <th>144942</th>\n",
       "      <td>waking-dream</td>\n",
       "      <td>R&amp;B</td>\n",
       "      <td>Suddenly, don't know from where you came\\nLike...</td>\n",
       "    </tr>\n",
       "  </tbody>\n",
       "</table>\n",
       "</div>"
      ],
      "text/plain": [
       "                                     song          genre  \\\n",
       "297669             my-arms-keep-missing-u     Electronic   \n",
       "1999                       constantinople           Rock   \n",
       "13913                     the-work-of-art           Rock   \n",
       "141442                             disarm        Country   \n",
       "183852           i-believe-in-santa-claus  Not Available   \n",
       "32423                     walk-away-remix  Not Available   \n",
       "352268               this-is-cracker-soul           Rock   \n",
       "262942                         another-me           Rock   \n",
       "301734  it-s-only-a-paper-moon-i-like-him            Pop   \n",
       "144942                       waking-dream            R&B   \n",
       "\n",
       "                                                   lyrics  \n",
       "297669  You know I've been so lonely every night\\nSinc...  \n",
       "1999    Across the western world\\nThe fights are going...  \n",
       "13913   A heavy feeling creeps through my bones\\nAs I ...  \n",
       "141442  Disarm you with a smile\\nAnd cut you like you ...  \n",
       "183852  (Dolly Parton)\\nI believe in Santa Claus\\nI be...  \n",
       "32423   Chorus\\nIf I told you that I loved you would y...  \n",
       "352268  Hey hey, it's okay to make\\nA little mess out ...  \n",
       "262942  Remember when I sang that song to you\\nAnd you...  \n",
       "301734  Fanny\\nSay it's only a paper moon, sailing ove...  \n",
       "144942  Suddenly, don't know from where you came\\nLike...  "
      ]
     },
     "execution_count": 9,
     "metadata": {},
     "output_type": "execute_result"
    }
   ],
   "source": [
    "df.head(10)"
   ]
  },
  {
   "cell_type": "code",
   "execution_count": 10,
   "metadata": {},
   "outputs": [],
   "source": [
    "lyrics = list(df[\"lyrics\"])"
   ]
  },
  {
   "cell_type": "code",
   "execution_count": 11,
   "metadata": {},
   "outputs": [],
   "source": [
    "from sklearn.feature_extraction.text import TfidfVectorizer\n",
    "v = TfidfVectorizer(decode_error='replace', encoding='utf-8')"
   ]
  },
  {
   "cell_type": "code",
   "execution_count": 12,
   "metadata": {},
   "outputs": [
    {
     "data": {
      "text/plain": [
       "TfidfVectorizer(analyzer='word', binary=False, decode_error='replace',\n",
       "                dtype=<class 'numpy.float64'>, encoding='utf-8',\n",
       "                input='content', lowercase=True, max_df=1.0, max_features=None,\n",
       "                min_df=1, ngram_range=(1, 1), norm='l2', preprocessor=None,\n",
       "                smooth_idf=True, stop_words=None, strip_accents=None,\n",
       "                sublinear_tf=False, token_pattern='(?u)\\\\b\\\\w\\\\w+\\\\b',\n",
       "                tokenizer=None, use_idf=True, vocabulary=None)"
      ]
     },
     "execution_count": 12,
     "metadata": {},
     "output_type": "execute_result"
    }
   ],
   "source": [
    "v"
   ]
  },
  {
   "cell_type": "code",
   "execution_count": 13,
   "metadata": {},
   "outputs": [
    {
     "data": {
      "text/plain": [
       "Rock             34\n",
       "Pop              10\n",
       "Hip-Hop           8\n",
       "Not Available     6\n",
       "Country           5\n",
       "Metal             4\n",
       "Electronic        2\n",
       "Indie             1\n",
       "Jazz              1\n",
       "R&B               1\n",
       "Name: genre, dtype: int64"
      ]
     },
     "execution_count": 13,
     "metadata": {},
     "output_type": "execute_result"
    }
   ],
   "source": [
    "df['genre'].value_counts(dropna=True)"
   ]
  },
  {
   "cell_type": "code",
   "execution_count": 14,
   "metadata": {},
   "outputs": [],
   "source": [
    "ly_store = list(df[\"lyrics\"].fillna(method='ffill'))"
   ]
  },
  {
   "cell_type": "code",
   "execution_count": 15,
   "metadata": {},
   "outputs": [],
   "source": [
    "vectorizer = TfidfVectorizer()\n",
    "X = vectorizer.fit_transform(ly_store)\n",
    "tfidf = pd.DataFrame(X.toarray(), columns = vectorizer.get_feature_names()).transpose()\n",
    "tfidf.columns = list(df[\"song\"])"
   ]
  },
  {
   "cell_type": "code",
   "execution_count": 16,
   "metadata": {},
   "outputs": [
    {
     "name": "stdout",
     "output_type": "stream",
     "text": [
      "How do you feel ?sad\n"
     ]
    }
   ],
   "source": [
    "urfl = input(\"How do you feel ?\")"
   ]
  },
  {
   "cell_type": "code",
   "execution_count": 17,
   "metadata": {},
   "outputs": [],
   "source": [
    "query = urfl\n",
    "query_vector = vectorizer.transform([query])\n",
    "q_query = pd.DataFrame(query_vector.toarray(), columns = vectorizer.get_feature_names()).transpose()"
   ]
  },
  {
   "cell_type": "code",
   "execution_count": 18,
   "metadata": {},
   "outputs": [
    {
     "name": "stdout",
     "output_type": "stream",
     "text": [
      "                 0\n",
      "12             0.0\n",
      "20             0.0\n",
      "2015           0.0\n",
      "21st           0.0\n",
      "23             0.0\n",
      "2x             0.0\n",
      "30             0.0\n",
      "37             0.0\n",
      "3rd            0.0\n",
      "528            0.0\n",
      "54th           0.0\n",
      "5h             0.0\n",
      "5th            0.0\n",
      "70             0.0\n",
      "80             0.0\n",
      "86             0.0\n",
      "90             0.0\n",
      "91             0.0\n",
      "aaaction       0.0\n",
      "ab             0.0\n",
      "abandon        0.0\n",
      "abba           0.0\n",
      "abend          0.0\n",
      "aber           0.0\n",
      "abgebrochen    0.0\n",
      "abgelutschter  0.0\n",
      "abgenommen     0.0\n",
      "abgeschleckt   0.0\n",
      "abgesetzt      0.0\n",
      "abide          0.0\n",
      "...            ...\n",
      "yesterday      0.0\n",
      "yet            0.0\n",
      "yi             0.0\n",
      "yippie         0.0\n",
      "yo             0.0\n",
      "you            0.0\n",
      "young          0.0\n",
      "your           0.0\n",
      "youre          0.0\n",
      "yours          0.0\n",
      "yourself       0.0\n",
      "zag            0.0\n",
      "zappa          0.0\n",
      "zaster         0.0\n",
      "zeeky          0.0\n",
      "zehn           0.0\n",
      "zeit           0.0\n",
      "ziel           0.0\n",
      "zig            0.0\n",
      "zone           0.0\n",
      "zoo            0.0\n",
      "zu             0.0\n",
      "zucker         0.0\n",
      "zugehã         0.0\n",
      "zurã¼ck        0.0\n",
      "zurã¼cklasse   0.0\n",
      "zuverlässig    0.0\n",
      "zweit          0.0\n",
      "zwingt         0.0\n",
      "zyprexa        0.0\n",
      "\n",
      "[2693 rows x 1 columns]\n"
     ]
    }
   ],
   "source": [
    "print(q_query)"
   ]
  },
  {
   "cell_type": "code",
   "execution_count": 19,
   "metadata": {},
   "outputs": [
    {
     "name": "stdout",
     "output_type": "stream",
     "text": [
      "Recommend for your song is  chewing-gum\n"
     ]
    }
   ],
   "source": [
    "from scipy.spatial.distance import cdist\n",
    "\n",
    "sim = 1 - cdist(tfidf.values.T, query_vector.toarray(), metric = \"cosine\")\n",
    "\n",
    "for i in range(len(sim)):\n",
    "    if sim[i] == np.max(sim):\n",
    "        recsong = tfidf.columns[i]\n",
    "print(\"Recommend for your song is \" , recsong)"
   ]
  },
  {
   "cell_type": "code",
   "execution_count": null,
   "metadata": {},
   "outputs": [],
   "source": []
  }
 ],
 "metadata": {
  "colab": {
   "name": "Vector Space Model.ipynb",
   "provenance": []
  },
  "kernelspec": {
   "display_name": "Python 3",
   "language": "python",
   "name": "python3"
  },
  "language_info": {
   "codemirror_mode": {
    "name": "ipython",
    "version": 3
   },
   "file_extension": ".py",
   "mimetype": "text/x-python",
   "name": "python",
   "nbconvert_exporter": "python",
   "pygments_lexer": "ipython3",
   "version": "3.7.3"
  }
 },
 "nbformat": 4,
 "nbformat_minor": 1
}

{
 "cells": [
  {
   "cell_type": "code",
   "execution_count": 19,
   "metadata": {},
   "outputs": [],
   "source": [
    "import requests  \n",
    "from bs4 import BeautifulSoup"
   ]
  },
  {
   "cell_type": "code",
   "execution_count": 20,
   "metadata": {},
   "outputs": [],
   "source": [
    "get_bkk_home = requests.get(\"https://www.airvisual.com/thailand/bangkok/nong-khaem\",stream=True)\n",
    "get_cei_born = requests.get(\"https://www.airvisual.com/thailand/chiang-rai\",stream=True) \n",
    "get_bkk_office = requests.get(\"https://www.airvisual.com/thailand/bangkok/bang-rak\",stream=True) "
   ]
  },
  {
   "cell_type": "code",
   "execution_count": 21,
   "metadata": {},
   "outputs": [
    {
     "data": {
      "text/plain": [
       "(<Response [200]>, <Response [200]>, <Response [200]>)"
      ]
     },
     "execution_count": 21,
     "metadata": {},
     "output_type": "execute_result"
    }
   ],
   "source": [
    "get_bkk_home, get_cei_born, get_bkk_office"
   ]
  },
  {
   "cell_type": "code",
   "execution_count": 32,
   "metadata": {},
   "outputs": [],
   "source": [
    "soup_home = BeautifulSoup(get_bkk_home.content, 'html.parser')\n",
    "#soup_home"
   ]
  },
  {
   "cell_type": "code",
   "execution_count": 33,
   "metadata": {},
   "outputs": [
    {
     "data": {
      "text/plain": [
       "[<p _ngcontent-sc34=\"\"> Get AirVisual, the world's leading air quality app to track the air pollution around you, accurately. </p>,\n",
       " <p _ngcontent-sc34=\"\"> Upgrade your website with free localized air pollution website widget. </p>,\n",
       " <p _ngcontent-sc34=\"\"> Stay aware of the air quality in Nong Khaem thanks to our browser extension. </p>,\n",
       " <p _ngcontent-sc34=\"\"> Access AirVisual's extensive air quality database to create your own applications. </p>,\n",
       " <p _ngcontent-sc39=\"\" class=\"home-banner-description\">Take action to achieve optimal air</p>]"
      ]
     },
     "execution_count": 33,
     "metadata": {},
     "output_type": "execute_result"
    }
   ],
   "source": [
    "soup_home.find_all('p')"
   ]
  },
  {
   "cell_type": "markdown",
   "metadata": {},
   "source": [
    "# HOME AIR QUALITY : How are you ?"
   ]
  },
  {
   "cell_type": "code",
   "execution_count": 34,
   "metadata": {},
   "outputs": [
    {
     "data": {
      "text/plain": [
       "'Nong Khaem air quality index (AQI) and PM2.5 air pollution is 153, Unhealthy'"
      ]
     },
     "execution_count": 34,
     "metadata": {},
     "output_type": "execute_result"
    }
   ],
   "source": [
    "soup_home.find_all('h1')[0].getText()"
   ]
  },
  {
   "cell_type": "markdown",
   "metadata": {},
   "source": [
    "# BORN AIR QUALITY : How are you "
   ]
  },
  {
   "cell_type": "code",
   "execution_count": 35,
   "metadata": {},
   "outputs": [],
   "source": [
    "soup_born = BeautifulSoup(get_cei_born.content, 'html.parser')\n",
    "#soup_born"
   ]
  },
  {
   "cell_type": "code",
   "execution_count": 36,
   "metadata": {},
   "outputs": [
    {
     "data": {
      "text/plain": [
       "[<p _ngcontent-sc34=\"\"> Get AirVisual, the world's leading air quality app to track the air pollution around you, accurately. </p>,\n",
       " <p _ngcontent-sc34=\"\"> Upgrade your website with free localized air pollution website widget. </p>,\n",
       " <p _ngcontent-sc34=\"\"> Stay aware of the air quality in Chiang Rai thanks to our browser extension. </p>,\n",
       " <p _ngcontent-sc34=\"\"> Access AirVisual's extensive air quality database to create your own applications. </p>,\n",
       " <p _ngcontent-sc39=\"\" class=\"home-banner-description\">Take action to achieve optimal air</p>]"
      ]
     },
     "execution_count": 36,
     "metadata": {},
     "output_type": "execute_result"
    }
   ],
   "source": [
    "soup_born.find_all('p')"
   ]
  },
  {
   "cell_type": "code",
   "execution_count": 37,
   "metadata": {},
   "outputs": [
    {
     "data": {
      "text/plain": [
       "'Chiang Rai air quality index (AQI) and PM2.5 air pollution is 154, Unhealthy'"
      ]
     },
     "execution_count": 37,
     "metadata": {},
     "output_type": "execute_result"
    }
   ],
   "source": [
    "soup_born.find_all('h1')[0].getText()"
   ]
  },
  {
   "cell_type": "markdown",
   "metadata": {},
   "source": [
    "# OFFICE AIR QUALITY : How are you"
   ]
  },
  {
   "cell_type": "code",
   "execution_count": 39,
   "metadata": {},
   "outputs": [],
   "source": [
    "soup_office = BeautifulSoup(get_bkk_office.content, 'html.parser')\n",
    "#soup_office"
   ]
  },
  {
   "cell_type": "code",
   "execution_count": 40,
   "metadata": {},
   "outputs": [
    {
     "data": {
      "text/plain": [
       "[<p _ngcontent-sc34=\"\"> Get AirVisual, the world's leading air quality app to track the air pollution around you, accurately. </p>,\n",
       " <p _ngcontent-sc34=\"\"> Upgrade your website with free localized air pollution website widget. </p>,\n",
       " <p _ngcontent-sc34=\"\"> Stay aware of the air quality in Bang Rak thanks to our browser extension. </p>,\n",
       " <p _ngcontent-sc34=\"\"> Access AirVisual's extensive air quality database to create your own applications. </p>,\n",
       " <p _ngcontent-sc38=\"\" class=\"text16 ng-star-inserted\">1 Contributors</p>,\n",
       " <p _ngcontent-sc38=\"\" class=\"mt20 text16 ng-star-inserted\"> 1 Other Sources </p>,\n",
       " <p _ngcontent-sc39=\"\" class=\"home-banner-description\">Take action to achieve optimal air</p>]"
      ]
     },
     "execution_count": 40,
     "metadata": {},
     "output_type": "execute_result"
    }
   ],
   "source": [
    "soup_office.find_all('p')"
   ]
  },
  {
   "cell_type": "code",
   "execution_count": 41,
   "metadata": {},
   "outputs": [
    {
     "data": {
      "text/plain": [
       "'Bang Rak air quality index (AQI) and PM2.5 air pollution is 152, Unhealthy'"
      ]
     },
     "execution_count": 41,
     "metadata": {},
     "output_type": "execute_result"
    }
   ],
   "source": [
    "soup_office.find_all('h1')[0].getText()"
   ]
  }
 ],
 "metadata": {
  "kernelspec": {
   "display_name": "Python 3",
   "language": "python",
   "name": "python3"
  },
  "language_info": {
   "codemirror_mode": {
    "name": "ipython",
    "version": 3
   },
   "file_extension": ".py",
   "mimetype": "text/x-python",
   "name": "python",
   "nbconvert_exporter": "python",
   "pygments_lexer": "ipython3",
   "version": "3.7.3"
  }
 },
 "nbformat": 4,
 "nbformat_minor": 2
}
